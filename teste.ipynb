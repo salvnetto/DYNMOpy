{
 "cells": [
  {
   "cell_type": "code",
   "execution_count": 7,
   "metadata": {},
   "outputs": [],
   "source": [
    "import pandas as pd"
   ]
  },
  {
   "cell_type": "code",
   "execution_count": 10,
   "metadata": {},
   "outputs": [],
   "source": [
    "teste = pd.DataFrame({'1/3': 'pass_3rd'}, index= [0])"
   ]
  },
  {
   "cell_type": "code",
   "execution_count": 16,
   "metadata": {},
   "outputs": [
    {
     "name": "stdout",
     "output_type": "stream",
     "text": [
      "all_comps/shooting/\n",
      "all_comps/keeper\n",
      "all_comps/passing\n",
      "all_comps/passing_types\n",
      "all_comps/gca\n",
      "all_comps/defense\n",
      "all_comps/possession\n",
      "all_comps/misc\n"
     ]
    }
   ],
   "source": [
    "statsNames = {\n",
    "    'all_comps/shooting/': [['Date', 'Sh', 'SoT'], []],\n",
    "    'all_comps/keeper': [['Date', 'Saves'], []],\n",
    "    'all_comps/passing': [['Date', 'Cmp', 'Att', 'PrgP', 'KP', '1/3'], {'1/3': 'pass_3rd'}],\n",
    "    'all_comps/passing_types': [['Date', 'Sw', 'Crs'], []],\n",
    "    'all_comps/gca': [['Date', 'SCA', 'GCA'], []],\n",
    "    'all_comps/defense': [['Date', 'Tkl', 'TklW', 'Def 3rd', 'Att 3rd', 'Blocks', 'Int'], {'Att 3rd': 'Tkl_Att_3rd', 'Def 3rd': 'Tkl_Def_3rd'}],\n",
    "    'all_comps/possession':[['Date', 'Att 3rd'], {'Att 3rd': 'Touches_Att_3rd'}],\n",
    "    'all_comps/misc':[['Date', 'Fls', 'Off', 'Recov'], []]\n",
    "}\n",
    "\n",
    "for name, columns in statsNames.items():\n",
    "  print(name)\n",
    "  try:\n",
    "    teste.rename(columns=columns[1], inplace=True)\n",
    "  except TypeError:\n",
    "    pass"
   ]
  },
  {
   "cell_type": "code",
   "execution_count": 17,
   "metadata": {},
   "outputs": [
    {
     "data": {
      "text/html": [
       "<div>\n",
       "<style scoped>\n",
       "    .dataframe tbody tr th:only-of-type {\n",
       "        vertical-align: middle;\n",
       "    }\n",
       "\n",
       "    .dataframe tbody tr th {\n",
       "        vertical-align: top;\n",
       "    }\n",
       "\n",
       "    .dataframe thead th {\n",
       "        text-align: right;\n",
       "    }\n",
       "</style>\n",
       "<table border=\"1\" class=\"dataframe\">\n",
       "  <thead>\n",
       "    <tr style=\"text-align: right;\">\n",
       "      <th></th>\n",
       "      <th>pass_3rd</th>\n",
       "    </tr>\n",
       "  </thead>\n",
       "  <tbody>\n",
       "    <tr>\n",
       "      <th>0</th>\n",
       "      <td>pass_3rd</td>\n",
       "    </tr>\n",
       "  </tbody>\n",
       "</table>\n",
       "</div>"
      ],
      "text/plain": [
       "   pass_3rd\n",
       "0  pass_3rd"
      ]
     },
     "execution_count": 17,
     "metadata": {},
     "output_type": "execute_result"
    }
   ],
   "source": [
    "teste"
   ]
  },
  {
   "cell_type": "code",
   "execution_count": null,
   "metadata": {},
   "outputs": [],
   "source": []
  }
 ],
 "metadata": {
  "kernelspec": {
   "display_name": "base",
   "language": "python",
   "name": "python3"
  },
  "language_info": {
   "codemirror_mode": {
    "name": "ipython",
    "version": 3
   },
   "file_extension": ".py",
   "mimetype": "text/x-python",
   "name": "python",
   "nbconvert_exporter": "python",
   "pygments_lexer": "ipython3",
   "version": "3.11.5"
  }
 },
 "nbformat": 4,
 "nbformat_minor": 2
}
