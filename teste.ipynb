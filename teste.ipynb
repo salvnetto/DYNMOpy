{
 "cells": [
  {
   "cell_type": "code",
   "execution_count": 2,
   "metadata": {},
   "outputs": [],
   "source": [
    "import pandas as pd\n",
    "import requests\n",
    "from io import StringIO\n",
    "from datetime import datetime"
   ]
  },
  {
   "cell_type": "code",
   "execution_count": 6,
   "metadata": {},
   "outputs": [],
   "source": [
    "csv = pd.read_csv('datasets/raw_data/brasileirao/standings.csv')\n",
    "#csv1 = pd.read_csv('teste2015.csv')"
   ]
  },
  {
   "cell_type": "code",
   "execution_count": 12,
   "metadata": {},
   "outputs": [],
   "source": [
    "now = datetime.now()\n",
    "\n",
    "SEASONS = {\n",
    "  'full_year': [str(year) for year in range(2014, now.year+1)],\n",
    "  'split_years': (\n",
    "    [f\"{year}-{year+1}\" for year in range(2014, now.year) if now.month < 7] +\n",
    "    [f\"{year}-{year+1}\" for year in range(2014, now.year + 1) if now.month >= 7]\n",
    "  )\n",
    "}\n",
    "\n",
    "ACTIVE_SEASON = {\n",
    "  'full_year': str(now.year),\n",
    "  'split_years': f\"{now.year-1}-{now.year}\" if now.month < 7 else f\"{now.year}-{now.year+1}\"\n",
    "}"
   ]
  },
  {
   "cell_type": "code",
   "execution_count": 19,
   "metadata": {},
   "outputs": [
    {
     "data": {
      "text/plain": [
       "['2016', '2017', '2018', '2019', '2020', '2021', '2022', '2023']"
      ]
     },
     "execution_count": 19,
     "metadata": {},
     "output_type": "execute_result"
    }
   ],
   "source": [
    "downloadedSeasons = csv.season.apply(str).unique()\n",
    "\n",
    "[season for season in SEASONS['full_year'] if season not in downloadedSeasons]"
   ]
  },
  {
   "cell_type": "code",
   "execution_count": 7,
   "metadata": {},
   "outputs": [],
   "source": [
    "csv = csv[csv['season'] != 2017]"
   ]
  },
  {
   "cell_type": "code",
   "execution_count": 5,
   "metadata": {},
   "outputs": [
    {
     "data": {
      "text/plain": [
       "array(['Libertadores', 'Série A', 'Sudamericana'], dtype=object)"
      ]
     },
     "execution_count": 5,
     "metadata": {},
     "output_type": "execute_result"
    }
   ],
   "source": [
    "csv['Comp'].unique()"
   ]
  },
  {
   "cell_type": "code",
   "execution_count": 8,
   "metadata": {},
   "outputs": [
    {
     "data": {
      "text/plain": [
       "Index(['season', 'Date', 'Time', 'Comp', 'Round', 'Day', 'Venue', 'Result',\n",
       "       'GF', 'GA', 'Opponent', 'Poss', 'Attendance', 'Captain', 'Formation',\n",
       "       'Referee', 'Match Report', 'Notes', 'league_name', 'league_id',\n",
       "       'team_name', 'team_id', 'Sh', 'SoT', 'SoT%', 'G/Sh', 'G/SoT', 'Dist',\n",
       "       'Xg', 'Xga', 'Sota', 'Saves', 'Save%', 'Psxg', 'Psxg+/-', 'Cmp', 'Att',\n",
       "       'Cmp%', 'Totdist', 'Prgdist', 'Ast', 'Xag', 'Xa', 'Crspa', 'Prgp', 'Kp',\n",
       "       'Pass_3rd', 'Sw', 'Crs', 'Tb', 'Ck', 'Sca', 'Gca', 'Tkl', 'Tklw',\n",
       "       'Tkl_def_3rd', 'Tkl_att_3rd', 'Blocks', 'Int', 'Clr', 'Err',\n",
       "       'Touches_att_3rd', 'Prgc', 'Carries_att_3rd', 'Mis', 'Dis', 'Fls',\n",
       "       'Off', 'Recov', 'Won%'],\n",
       "      dtype='object')"
      ]
     },
     "execution_count": 8,
     "metadata": {},
     "output_type": "execute_result"
    }
   ],
   "source": [
    "csv.columns"
   ]
  },
  {
   "cell_type": "code",
   "execution_count": 63,
   "metadata": {},
   "outputs": [],
   "source": [
    "csv = csv.drop(['Date', 'Time', 'Comp', 'Round', 'Day', 'Venue',\n",
    "       'Result', 'GF', 'GA', 'Opponent', 'Poss', 'Attendance', 'Captain',\n",
    "       'Formation', 'Referee', 'Match Report', 'Notes', 'Sh', 'SoT', 'SoT%',\n",
    "       'G/Sh', 'G/SoT', 'Dist'], axis= 1)"
   ]
  },
  {
   "cell_type": "code",
   "execution_count": 64,
   "metadata": {},
   "outputs": [],
   "source": [
    "csv.columns = csv.columns.str.capitalize()"
   ]
  },
  {
   "cell_type": "code",
   "execution_count": 65,
   "metadata": {},
   "outputs": [],
   "source": [
    "csv = csv.rename({'Season': 'season', \n",
    "            'League_name': 'league_name',\n",
    "            'League_id': 'league_id',\n",
    "            'Team_name': 'team_name',\n",
    "            'Team_id': 'team_id',\n",
    "            'Gf': 'GF',\n",
    "            'Ga': 'GA',\n",
    "            'Match report': 'Match Report', \n",
    "            'Sot': 'SoT', \n",
    "            'Sot%': 'SoT%', \n",
    "            'G/sh': 'G/Sh', \n",
    "            'G/sot': 'G/SoT'}, axis= 1)"
   ]
  },
  {
   "cell_type": "code",
   "execution_count": 8,
   "metadata": {},
   "outputs": [],
   "source": [
    "csv.to_csv('datasets/raw_data/brasileirao/standings.csv', index= False)"
   ]
  },
  {
   "cell_type": "code",
   "execution_count": 39,
   "metadata": {},
   "outputs": [],
   "source": [
    "csv = csv.drop(['Unnamed: 0'], axis= 1)"
   ]
  },
  {
   "cell_type": "code",
   "execution_count": null,
   "metadata": {},
   "outputs": [],
   "source": []
  }
 ],
 "metadata": {
  "kernelspec": {
   "display_name": "base",
   "language": "python",
   "name": "python3"
  },
  "language_info": {
   "codemirror_mode": {
    "name": "ipython",
    "version": 3
   },
   "file_extension": ".py",
   "mimetype": "text/x-python",
   "name": "python",
   "nbconvert_exporter": "python",
   "pygments_lexer": "ipython3",
   "version": "3.11.5"
  }
 },
 "nbformat": 4,
 "nbformat_minor": 2
}
