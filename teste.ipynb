{
 "cells": [
  {
   "cell_type": "code",
   "execution_count": 2,
   "metadata": {},
   "outputs": [],
   "source": [
    "import pandas as pd\n",
    "import requests\n",
    "from io import StringIO"
   ]
  },
  {
   "cell_type": "code",
   "execution_count": 22,
   "metadata": {},
   "outputs": [],
   "source": [
    "csv = pd.read_csv('datasets/raw_data/brasileirao/match_history.csv')\n",
    "#csv1 = pd.read_csv('teste2015.csv')"
   ]
  },
  {
   "cell_type": "code",
   "execution_count": 23,
   "metadata": {},
   "outputs": [
    {
     "data": {
      "text/plain": [
       "Index(['season', 'Date', 'Time', 'Comp', 'Round', 'Day', 'Venue', 'Result',\n",
       "       'GF', 'GA', 'Opponent', 'Poss', 'Attendance', 'Captain', 'Formation',\n",
       "       'Referee', 'Match Report', 'Notes', 'league_name', 'league_id',\n",
       "       'team_name', 'team_id', 'Sh', 'SoT', 'SoT%', 'G/Sh', 'G/SoT', 'Dist',\n",
       "       'xG', 'xGA', 'SoTA', 'Saves', 'Save%', 'PSxG', 'PSxG+/-', 'Cmp', 'Att',\n",
       "       'Cmp%', 'TotDist', 'PrgDist', 'Ast', 'xAG', 'xA', 'CrsPA', 'PrgP', 'KP',\n",
       "       'pass_3rd', 'Sw', 'Crs', 'TB', 'CK', 'SCA', 'GCA', 'Tkl', 'TklW',\n",
       "       'Tkl_Def_3rd', 'Tkl_Att_3rd', 'Blocks', 'Int', 'Clr', 'Err',\n",
       "       'Touches_Att_3rd', 'PrgC', 'Carries_Att_3rd', 'Mis', 'Dis', 'Fls',\n",
       "       'Off', 'Recov', 'Won%'],\n",
       "      dtype='object')"
      ]
     },
     "execution_count": 23,
     "metadata": {},
     "output_type": "execute_result"
    }
   ],
   "source": [
    "csv.columns"
   ]
  }
 ],
 "metadata": {
  "kernelspec": {
   "display_name": "base",
   "language": "python",
   "name": "python3"
  },
  "language_info": {
   "codemirror_mode": {
    "name": "ipython",
    "version": 3
   },
   "file_extension": ".py",
   "mimetype": "text/x-python",
   "name": "python",
   "nbconvert_exporter": "python",
   "pygments_lexer": "ipython3",
   "version": "3.11.5"
  }
 },
 "nbformat": 4,
 "nbformat_minor": 2
}
